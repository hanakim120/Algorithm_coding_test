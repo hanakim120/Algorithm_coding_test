{
 "cells": [
  {
   "cell_type": "markdown",
   "metadata": {},
   "source": [
    "# 구현"
   ]
  },
  {
   "cell_type": "markdown",
   "metadata": {},
   "source": [
    "구현이란, 머릿속에 있는 알고리즘을 소스코드로 바꾸는 과정\n"
   ]
  },
  {
   "cell_type": "markdown",
   "metadata": {},
   "source": [
    "## <문제> 상하좌우"
   ]
  },
  {
   "cell_type": "code",
   "execution_count": null,
   "metadata": {},
   "outputs": [],
   "source": [
    "# n 입력받기\n",
    "n = int(input())\n",
    "x, y = 1,1\n",
    "plans = input.split()\n",
    "\n",
    "# L,R,U,D 에 따른 이동 방향\n",
    "dx = [0,0,-1,1]\n",
    "dy = [-1,1,0,0]\n",
    "move_types = ['L','R','U','D']\n",
    "\n",
    "# 이동 계획을 하나씩 확인하기\n",
    "for plan in plans:\n",
    "    # 이동 후 좌표 구하기\n",
    "    for i in range(len(move_types)):\n",
    "        if plan == move_types[i]:\n",
    "            nx = x + dx[i]\n",
    "            ny = y + dy[i]\n",
    "    # 공간을 벗어나는 경우 무시\n",
    "    if nx < 1 or ny < 1 or nx >n or ny > n :\n",
    "        continue\n",
    "    # 이동 수행\n",
    "    x, y = nx, ny\n",
    "\n",
    "print(x,y)"
   ]
  },
  {
   "cell_type": "markdown",
   "metadata": {},
   "source": [
    "## <문제> 시각 - 완전 탐색\n"
   ]
  },
  {
   "cell_type": "code",
   "execution_count": null,
   "metadata": {},
   "outputs": [],
   "source": [
    "# H 입력 받기\n",
    "h = int(input())\n",
    "\n",
    "count = 0\n",
    "for i in range(h+1):\n",
    "    for j in range(60):\n",
    "        for k in range(60):\n",
    "            # 매 시각 안에 '3'이 포함되어 있다면 카운트 증가\n",
    "            if '3' in str(i) + str(j) + str(k):\n",
    "                count += 1\n",
    "                \n",
    "print(count)"
   ]
  },
  {
   "cell_type": "markdown",
   "metadata": {},
   "source": [
    "## <문제> 왕실의 나이트"
   ]
  },
  {
   "cell_type": "code",
   "execution_count": null,
   "metadata": {},
   "outputs": [],
   "source": [
    "# 현재 나이트의 위치 입력 받기\n",
    "input_data = input()\n",
    "row = int(input_data[1])\n",
    "column = int(ord(input_data[0])) - int(ord('a')) + 1\n",
    "\n",
    "# 나이트가 이동할 수 있는 8가지 방향 정의\n",
    "steps = [(-2,-1),(-1,-2),(1,-2),(2,-1),(2,1),(1,2),(-1,2),(-2,1)]\n",
    "\n",
    "# 8가지 방향에 대하여 각 위치로 이동이 가능한지 확인\n",
    "result = 0\n",
    "for step in steps:\n",
    "    # 이동하고자 하는 위치 확인\n",
    "    next_row = row + step[0]\n",
    "    next_column = column + step[1]\n",
    "    # 해당 위치로 이동이 가능하다면 카운트 증가\n",
    "    if next_row >= 1 and next_row <= 8 and next_column >= 1 and next_column <= 8:\n",
    "        result += 1\n",
    "\n",
    "print(result)"
   ]
  },
  {
   "cell_type": "markdown",
   "metadata": {},
   "source": [
    "## <문제> 문자열 재정렬\n"
   ]
  },
  {
   "cell_type": "code",
   "execution_count": 19,
   "metadata": {},
   "outputs": [
    {
     "name": "stdout",
     "output_type": "stream",
     "text": [
      "ADDIJJKLSS\n"
     ]
    }
   ],
   "source": [
    "# 내 풀이\n",
    "s = list(input())\n",
    "s_list = []\n",
    "sum = 0\n",
    "for i in s:\n",
    "    if i.isdigit() == True :\n",
    "        sum += int(i)\n",
    "    \n",
    "    else :\n",
    "        s_list.append(i)\n",
    "        s_list.sort()\n",
    "\n",
    "if sum != 0:\n",
    "    s_list.append(str(sum))\n",
    "    \n",
    "answer = \"\".join(s_list)\n",
    "print(answer)"
   ]
  },
  {
   "cell_type": "code",
   "execution_count": 17,
   "metadata": {},
   "outputs": [
    {
     "name": "stdout",
     "output_type": "stream",
     "text": [
      "ADDIJJKLSS\n"
     ]
    }
   ],
   "source": [
    "# 답변 예시\n",
    "data = input()\n",
    "result = []\n",
    "value = 0\n",
    "\n",
    "# 문자를 하나씩 확인하며\n",
    "for x in data:\n",
    "    # 알파벳인 경우 결과 리스트에 삽입\n",
    "    if x.isalpha():\n",
    "        result.append(x)\n",
    "    # 숫자는 따로 더하기\n",
    "    else :\n",
    "        value += int(x)\n",
    "# 알파벳을 오름차순으로 정렬\n",
    "result.sort()\n",
    "\n",
    "# 숫자가 하나라도 존재하는 경우 가장 뒤에 삽입\n",
    "if value != 0 :\n",
    "    result.append(str(value))\n",
    "    \n",
    "# 최종 결과 출력 (리스트를 문자열로 변환하여 출력)\n",
    "print(''.join(result))"
   ]
  }
 ],
 "metadata": {
  "interpreter": {
   "hash": "c7a77ab1d815ddb4d60ad5d300ec3b14c78104374e9e3c8c105f1947ea886497"
  },
  "kernelspec": {
   "display_name": "Python 3.9.7",
   "language": "python",
   "name": "python3"
  },
  "language_info": {
   "codemirror_mode": {
    "name": "ipython",
    "version": 3
   },
   "file_extension": ".py",
   "mimetype": "text/x-python",
   "name": "python",
   "nbconvert_exporter": "python",
   "pygments_lexer": "ipython3",
   "version": "3.9.7"
  },
  "orig_nbformat": 4
 },
 "nbformat": 4,
 "nbformat_minor": 2
}
