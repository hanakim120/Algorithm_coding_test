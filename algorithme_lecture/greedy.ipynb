{
 "cells": [
  {
   "cell_type": "markdown",
   "metadata": {},
   "source": [
    "# Greedy"
   ]
  },
  {
   "cell_type": "markdown",
   "metadata": {},
   "source": [
    "## <문제> 거스름 돈"
   ]
  },
  {
   "cell_type": "markdown",
   "metadata": {},
   "source": [
    "### 화폐의 종류 : K, 화폐의 종류만큼만 반복하면 문제를 해결 할 수 있으므로 O(K)"
   ]
  },
  {
   "cell_type": "code",
   "execution_count": 1,
   "metadata": {},
   "outputs": [
    {
     "name": "stdout",
     "output_type": "stream",
     "text": [
      "6\n"
     ]
    }
   ],
   "source": [
    "n = 1260\n",
    "count = 0\n",
    "\n",
    "array = [500, 100, 50, 10]\n",
    "\n",
    "for i in array :\n",
    "    paid = n//i\n",
    "    count += paid\n",
    "    n -= i * paid\n",
    "\n",
    "print(count)\n",
    "\n"
   ]
  },
  {
   "cell_type": "markdown",
   "metadata": {},
   "source": [
    "## <문제> 1이 될 때 까지"
   ]
  },
  {
   "cell_type": "markdown",
   "metadata": {},
   "source": [
    "### 시간 복잡도 : O(logN)"
   ]
  },
  {
   "cell_type": "code",
   "execution_count": 10,
   "metadata": {},
   "outputs": [
    {
     "name": "stdout",
     "output_type": "stream",
     "text": [
      "3\n"
     ]
    }
   ],
   "source": [
    "# n,k 를 공백 기준으로 구분하여 입력 받기\n",
    "n, k = map(int, input().split())\n",
    "# n = 12\n",
    "# k = 3\n",
    "\n",
    "result = 0\n",
    "\n",
    "# 나눠질때까지 -1 하기\n",
    "while True:\n",
    "    target = (n // k) * k\n",
    "    result += (n - target)\n",
    "    n = target\n",
    "    # n 이 k 보다 작으면 반복문 탈출\n",
    "    if n < k:\n",
    "        break\n",
    "    # k 로 나누기\n",
    "    result += 1\n",
    "    n //= k\n",
    "result += (n-1)\n",
    "print(result)"
   ]
  },
  {
   "cell_type": "markdown",
   "metadata": {},
   "source": [
    "## <문제> 곱하기 혹은 더하기"
   ]
  },
  {
   "cell_type": "markdown",
   "metadata": {},
   "source": [
    "### 첫번째 풀이 방식\n",
    "    전체 string 을 int 가 원소인 리스트로 만들어 리스트 인덱스를 이용하려 함.\n",
    "    두 값을 비교하는데 for 문과 index 를 같이 사용하니까 out of index 에러 발생 \n",
    "    0 뿐만 아니라 1일 경우에도 더하기를 하는게 곱하기를 하는 것보다 큰 수를 만들 수 있는데 1의 경우는 빼먹고 생각하지 못했음\n",
    "    "
   ]
  },
  {
   "cell_type": "code",
   "execution_count": 36,
   "metadata": {},
   "outputs": [
    {
     "name": "stdout",
     "output_type": "stream",
     "text": [
      "210\n"
     ]
    }
   ],
   "source": [
    "# 답안 예시\n",
    "\n",
    "data = input()\n",
    "\n",
    "# 첫 번째 문자를 숫자로 변경하여 대입\n",
    "result = int(data[0])\n",
    "\n",
    "for i in range(1, len(data)):\n",
    "    # 두 수 중 하나라도 0또는 1인 경우 곱하기 보다는 더하기 수행\n",
    "    num = int(data[i])\n",
    "    if num <= 1 or result <= 1 :\n",
    "        result += num\n",
    "    else:\n",
    "        result *= num\n",
    "\n",
    "print(result)"
   ]
  },
  {
   "cell_type": "markdown",
   "metadata": {},
   "source": [
    "## <문제> 모험가 길드"
   ]
  },
  {
   "cell_type": "markdown",
   "metadata": {},
   "source": [
    "공포도가 X 인 모험가는 반드시 X 명 이상으로 구성한 모험가 그룹에 참여해야 여행을 떠날 수 있음"
   ]
  },
  {
   "cell_type": "markdown",
   "metadata": {},
   "source": [
    "- 입력 조건 \n",
    "첫째 줄에 모험가의 수 N (1<= N <= 100,000)\n",
    "둘째 줄에 각 모험가의 공포도의 값을 N 이하의 자연수로 주어지며, 각 자연수는 공백으로 구분\n",
    "- 출력 조건\n",
    "여행을 떠날 수 있는 그룹 수의 최댓값을 출력\n"
   ]
  },
  {
   "cell_type": "code",
   "execution_count": 20,
   "metadata": {},
   "outputs": [
    {
     "name": "stdout",
     "output_type": "stream",
     "text": [
      "5\n"
     ]
    }
   ],
   "source": [
    "# 내 풀이\n",
    "n = int(input())\n",
    "n_list = list(map(int,input().split()))\n",
    "\n",
    "n_list_sorted = sorted(n_list, reverse=True) # 내림차순 정렬\n",
    "count = 0\n",
    "# 앞에서부터 맨 앞 수 만큼으로 그룹화 할 때 count\n",
    "for _ in range(n):\n",
    "    k = 0\n",
    "    k = n_list_sorted[k] # k = 3 2\n",
    "    if len(n_list_sorted) > k:\n",
    "        n_list_sorted = n_list_sorted[k:] # 묶어진 그룹 리스트에서 없애기\n",
    "        count += 1 \n",
    "    else : \n",
    "        count += 1\n",
    "        break\n",
    "print(count)\n",
    "    \n",
    "  \n"
   ]
  },
  {
   "cell_type": "code",
   "execution_count": 21,
   "metadata": {},
   "outputs": [
    {
     "name": "stdout",
     "output_type": "stream",
     "text": [
      "5\n"
     ]
    }
   ],
   "source": [
    "# 답안 예시\n",
    "n = int(input())\n",
    "data = list(map(int,input().split()))\n",
    "data.sort()\n",
    "\n",
    "result = 0 # 총 그룹의 수\n",
    "count = 0 # 현재 그룹에 포함된 모험가의 수\n",
    "\n",
    "for i in data : # 공포도를 낮은 것부터 하나씩 확인\n",
    "    count += 1 # 현재 그룹에 해당 모험가를 포함시키기\n",
    "    if count >= i : # 현재 그룹에 포함된 모험가의 수가 현재의 공포도 이상이라면, 그룹 결성\n",
    "        result += 1 # 총 그룹의 수 증가시키기\n",
    "        count = 0 # 현재 그룹에 포함된 모험가의 수 초기화\n",
    "\n",
    "print(result)"
   ]
  },
  {
   "cell_type": "code",
   "execution_count": null,
   "metadata": {},
   "outputs": [],
   "source": []
  }
 ],
 "metadata": {
  "interpreter": {
   "hash": "4341049ce8aad712c9b8388e58b4c8dee9066ba83fafa22757efcf1283cda014"
  },
  "kernelspec": {
   "display_name": "Python 3.9.10 ('base')",
   "language": "python",
   "name": "python3"
  },
  "language_info": {
   "codemirror_mode": {
    "name": "ipython",
    "version": 3
   },
   "file_extension": ".py",
   "mimetype": "text/x-python",
   "name": "python",
   "nbconvert_exporter": "python",
   "pygments_lexer": "ipython3",
   "version": "3.9.10"
  },
  "orig_nbformat": 4
 },
 "nbformat": 4,
 "nbformat_minor": 2
}
