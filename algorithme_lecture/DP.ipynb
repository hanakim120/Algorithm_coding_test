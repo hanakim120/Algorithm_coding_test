{
 "cells": [
  {
   "cell_type": "markdown",
   "metadata": {},
   "source": [
    "# 다이나믹 프로그래밍 (동적 계획법)\n",
    "- 메모리를 적절히 사용하여 수행 시간 효율성을 비약적으로 향상시키는 방법\n",
    "- 이미 계산된 결과(작은 문제)는 별도의 메모리 영역에 저장하여 다시 계산하지 않도록 한다.\n",
    "- 일반적으로 탑다운(하향식)과 보텀업(상향식)으로 구성된다. \n",
    "- 자료구조에서 동적 할당은 프로그램이 실행되는 도중에 실행에 필요한 메모리를 할당하는 기법을 의미하지만 다이나믹 프로그래밍에서 다이나믹은 별다른 의미가 없다."
   ]
  },
  {
   "cell_type": "markdown",
   "metadata": {},
   "source": [
    "## 다이나믹 프로그래밍의 조건\n",
    "### 1. 최적 부분 구조 (Optimal Substructure)\n",
    "- 큰 문제를 작은 문제로 나눌 수 있으며 작은 문제의 답을 모아 큰 문제를 해결 할 수 있다.\n",
    "### 2. 중복되는 부분 문제 (Overlapping Subproblem)\n",
    "- 동일한 작은 문제를 반복적으로 해야해야 한다."
   ]
  },
  {
   "cell_type": "markdown",
   "metadata": {},
   "source": [
    "## 피보나치 수열 : 단순 재귀 소스코드\n",
    "- 단순 재귀 함수로 피보나치 수열을 해결하면 지수 시간 복잡도를 가진다.\n",
    "- 중복되는 부분이 문제가 되기 때문."
   ]
  },
  {
   "cell_type": "code",
   "execution_count": 1,
   "metadata": {},
   "outputs": [
    {
     "name": "stdout",
     "output_type": "stream",
     "text": [
      "3\n"
     ]
    }
   ],
   "source": [
    "# 피보나치 함수를 재귀함수로 표현\n",
    "def fibo(x):\n",
    "    if x == 1 or x == 2:\n",
    "        return 1\n",
    "    return fibo(x-1) + fibo(x-2)\n",
    "\n",
    "print(fibo(4))\n",
    "\n"
   ]
  },
  {
   "cell_type": "markdown",
   "metadata": {},
   "source": [
    "## 다이나믹 프로그래밍을 이용한 피보나치 수열\n",
    "### 하향식 (탑다운) - 메모이제이션 (memoization)\n",
    "### 메모이제이션을 이용하면 시간복잡도는 O(N)\n",
    "- 다이나믹 프로그래밍을 구현하는 방법 중 하나\n",
    "- 한 번 계산한 결과를 메모리 공간에 메모하는 기법\n",
    "- 같은 문제를 다시 호출하면 메모했던 결과를 그대로 가져옴\n",
    "- 값을 기록해 놓는다는 점에서 캐싱이라고도 함\n"
   ]
  },
  {
   "cell_type": "markdown",
   "metadata": {},
   "source": [
    "### 전형적인 형태는 보텀업 방식(상향식)\n",
    "- 결과 저장용 리스트는 DP 테이블이라고 부른다.\n",
    "- 엄밀히 말하면 메모이제이션은 이전에 계산된 결과를 일시적으로 기록해 놓는 넓은 개념을 의미\n",
    "- 다라서 메모이제이션은 DP에 국한된 개념은 아니고 담아 놓기만 해도 활용하지 않을 수도 있음."
   ]
  },
  {
   "cell_type": "markdown",
   "metadata": {},
   "source": [
    "### 탑다운 방식의 피보나치 수열 구현"
   ]
  },
  {
   "cell_type": "code",
   "execution_count": 2,
   "metadata": {},
   "outputs": [
    {
     "name": "stdout",
     "output_type": "stream",
     "text": [
      "218922995834555169026\n"
     ]
    }
   ],
   "source": [
    "# 탑다운 방식을 이요한 피보나치 수열\n",
    "# 한 번 계산된 결과를 메모이제이션 하기 위한 리스트 초기화\n",
    "d = [0] * 100\n",
    "\n",
    "# 피보나치 함수를 재귀함수로 구현(탑다운 DP)\n",
    "def fibo(x):\n",
    "    # 종료 조건 (1 혹은 2일 때 1을 반환)\n",
    "    if x == 1 or x == 2:\n",
    "        return 1\n",
    "    # 이미 계산한 적 있는 문제라면 그대로 반환\n",
    "    if d[x] != 0:\n",
    "        return d[x]\n",
    "    # 아직 계산하지 않은 문제라면 점화식에 따라서 피보나치 결과 반환\n",
    "    d[x] = fibo(x-1) + fibo(x-2)\n",
    "    return d[x]\n",
    "\n",
    "print(fibo(99))"
   ]
  },
  {
   "cell_type": "markdown",
   "metadata": {},
   "source": [
    "### 보텀업 방식의 피보나치 수열 구현"
   ]
  },
  {
   "cell_type": "code",
   "execution_count": 3,
   "metadata": {},
   "outputs": [
    {
     "name": "stdout",
     "output_type": "stream",
     "text": [
      "218922995834555169026\n"
     ]
    }
   ],
   "source": [
    "# 한 번 계산된 결과를 메모이제이션 하기 위한 리스트 초기화\n",
    "d = [0] * 100\n",
    "\n",
    "# 첫 번쨰 피보나치 수와 두 번째 피보나치 수는 1\n",
    "d[1] = 1\n",
    "d[2] = 1\n",
    "n = 99\n",
    "\n",
    "# 피보나치 함수 반복문으로 구현 (보텀업 다이나믹 프로그래밍)\n",
    "for i in range(3, n+1):\n",
    "    d[i] = d[i-1] + d[i-2]\n",
    "\n",
    "print(d[n])"
   ]
  },
  {
   "cell_type": "markdown",
   "metadata": {},
   "source": [
    "### DP와 분할정복의 비교\n",
    "- 둘다 모두 최적 부분 구조를 가질 때 사용 가능 \n",
    "- 큰 문제를 작은 문제로 나눌 수 있으며 작은 문제의 답을 모아 큰 문제를 해결할 수 있는 상황\n",
    "- DP 와 분할 정복의 차이점은 부분 문제의 중복이다.\n",
    "- DP는 각 부분의 문제들이 서로 영향을 미치며 부분 문제가 중복됨\n",
    "- 분할 정복 문제는 동일한 부분 문제가 반복적으로 계산되지 않음."
   ]
  }
 ],
 "metadata": {
  "interpreter": {
   "hash": "31f2aee4e71d21fbe5cf8b01ff0e069b9275f58929596ceb00d14d90e3e16cd6"
  },
  "kernelspec": {
   "display_name": "Python 3.8.9 64-bit",
   "language": "python",
   "name": "python3"
  },
  "language_info": {
   "codemirror_mode": {
    "name": "ipython",
    "version": 3
   },
   "file_extension": ".py",
   "mimetype": "text/x-python",
   "name": "python",
   "nbconvert_exporter": "python",
   "pygments_lexer": "ipython3",
   "version": "3.8.9"
  },
  "orig_nbformat": 4
 },
 "nbformat": 4,
 "nbformat_minor": 2
}
