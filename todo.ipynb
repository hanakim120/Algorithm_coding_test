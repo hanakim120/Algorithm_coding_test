{
 "cells": [
  {
   "cell_type": "markdown",
   "metadata": {},
   "source": [
    "- 방향 전환점까지 500m 이하면 메세지 보냄\n",
    "- 출발 혹은 방향 변경 직후 다음 변경 지점까지 500m 이하면 메세지 보냄\n",
    "- Time x : Go straight ym and turn direction\n",
    "- x : 안내 메세지 보내는 시간, 100m 마다 1만큼 소요\n",
    "- y : 다음 방향 변경까지 직선거리\n",
    "- direction : 진행 방향 기준 바꾸어야 할 방향 (left or right)\n",
    "- \"EEESEEEEEENNNN\"\n",
    "- [\"Time 0: Go straight 300m and turn right\",\"Time 3: Go straight 100m and turn left\",\"Time 5: Go straight 500m and turn left\"]\n",
    "\n",
    "- \"SSSSSSWWWNNNNNN\"\n",
    "- [\"Time 1: Go straight 500m and turn right\",\"Time 6: Go straight 300m and turn right\"]"
   ]
  },
  {
   "cell_type": "code",
   "execution_count": null,
   "metadata": {},
   "outputs": [],
   "source": [
    "def solution(path):\n",
    "    answer = []\n",
    "    return answer"
   ]
  },
  {
   "cell_type": "code",
   "execution_count": null,
   "metadata": {},
   "outputs": [],
   "source": [
    "path = \"EEESEEEEEENNNN\"\n",
    "dx = [0,0,-1,1]\n",
    "dy = [-1,1,0,0]\n",
    "move_types = ['W','E','S','N']\n",
    "\n",
    "# 같은 문자가 연달아 나오는게 5보다 작거나 같으면 Time print찍고 move\n",
    "\n",
    "# 5보다 크면 5로 나눈 나머지만큼 이동\n",
    "\n",
    "# 5마다 time print\n",
    "\n",
    "\n",
    "\n",
    "\n"
   ]
  },
  {
   "cell_type": "code",
   "execution_count": 48,
   "metadata": {},
   "outputs": [
    {
     "name": "stdout",
     "output_type": "stream",
     "text": [
      "0 this\n",
      "1 is\n",
      "2 {template}\n",
      "3 {template}\n",
      "4 is\n",
      "5 {state}\n"
     ]
    }
   ],
   "source": [
    "tstring = \"this is {template} {template} is {state}\"\n",
    "variables = [[\"template\", \"string\"], [\"state\", \"{template}\"]]\n",
    "\n",
    "# list 를 dictionary 로 만들기\n",
    "key_list = []\n",
    "value_list = []\n",
    "for i in range(len(variables)) :\n",
    "    key_list.append(variables[i][0])\n",
    "for j in range(len(variables)) :\n",
    "    value_list.append(variables[j][1])\n",
    "\n",
    "dictionary = dict(zip(key_list, value_list))\n",
    "#print(dictionary)\n",
    "\n",
    "\n",
    "tstring_list = tstring.split()\n",
    "for idx, s in enumerate(tstring_list):\n",
    "    print(idx,s)\n",
    "    s= s.replace('{','').replace('}','')\n",
    "    tstring_list[idx] = s\n",
    "#print(tstring_list)\n",
    "    if  s in dictionary:\n",
    "        tstring_list[idx] = dictionary.get(s)  \n",
    "        tstring = ' '.join(tstring_list)\n",
    "        #print(tstring)\n",
    "\n",
    "\n"
   ]
  },
  {
   "cell_type": "code",
   "execution_count": 46,
   "metadata": {},
   "outputs": [
    {
     "name": "stdout",
     "output_type": "stream",
     "text": [
      "new\n"
     ]
    },
    {
     "data": {
      "text/plain": [
       "'this is string string is string'"
      ]
     },
     "execution_count": 46,
     "metadata": {},
     "output_type": "execute_result"
    }
   ],
   "source": [
    "# import sys\n",
    "# sys.setrecursionlimit(10000)\n",
    "\n",
    "def solution(tstring, variables):\n",
    "    # while True:\n",
    "    #     try:\n",
    "    answer = []\n",
    "    key_list = []\n",
    "    value_list = []\n",
    "    for i in range(len(variables)) :\n",
    "        key_list.append(variables[i][0])\n",
    "    for j in range(len(variables)) :\n",
    "        value_list.append(variables[j][1])\n",
    "\n",
    "    dictionary = dict(zip(key_list, value_list))\n",
    "    #print(dictionary)\n",
    "\n",
    "    tstring_list = tstring.split()\n",
    "    for idx, s in enumerate(tstring_list):\n",
    "        s= s.replace('{','').replace('}','')\n",
    "        tstring_list[idx] = s\n",
    "        if  s in dictionary:\n",
    "            tstring_list[idx] = dictionary.get(s)  \n",
    "            tstring = ' '.join(tstring_list)\n",
    "            answer.append(tstring)\n",
    " \n",
    "        if '{' in tstring :\n",
    "            print('new')\n",
    "            return solution(tstring, variables)\n",
    "        else :\n",
    "            return tstring\n",
    "\n",
    "  \n",
    "solution(\"this is {template} {template} is {state}\",[[\"template\", \"string\"], [\"state\", \"{template}\"]])"
   ]
  },
  {
   "cell_type": "code",
   "execution_count": 80,
   "metadata": {},
   "outputs": [
    {
     "name": "stdout",
     "output_type": "stream",
     "text": [
      "['{c}', 'd', '{e}', '{f}', '{i}']\n"
     ]
    }
   ],
   "source": [
    "\n",
    "def solution(tstring, variables):\n",
    "    answer = []\n",
    "    key_list = []\n",
    "    value_list = []\n",
    "    for i in range(len(variables)) :\n",
    "        key_list.append(variables[i][0])\n",
    "    for j in range(len(variables)) :\n",
    "        value_list.append(variables[j][1])\n",
    "\n",
    "    dictionary = dict(zip(key_list, value_list))\n",
    "    count = 0 \n",
    "    for k in range(10):\n",
    "        tstring_list = tstring.split()\n",
    "        for idx, s in enumerate(tstring_list):\n",
    "            s_2= s.replace('{','').replace('}','')\n",
    "            tstring_list[idx] = s_2\n",
    "            if  s_2 in dictionary:\n",
    "                tstring_list[idx] = dictionary.get(s_2)  \n",
    "                tstring = ' '.join(tstring_list)\n",
    "                answer.append(tstring)\n",
    "                count +=1\n",
    "        if count > 5 :\n",
    "            tstring_list[idx] = s\n",
    "            return print(tstring_list)\n",
    "                #print(answer)\n",
    "    return print(answer[-1])\n",
    "\n",
    "  \n",
    "solution(\"{a} {b} {c} {d} {i}\",[[\"b\", \"{c}\"], [\"a\", \"{b}\"], [\"e\", \"{f}\"], [\"h\", \"i\"], [\"d\", \"{e}\"], [\"f\", \"{d}\"], [\"c\", \"d\"]])"
   ]
  }
 ],
 "metadata": {
  "interpreter": {
   "hash": "31f2aee4e71d21fbe5cf8b01ff0e069b9275f58929596ceb00d14d90e3e16cd6"
  },
  "kernelspec": {
   "display_name": "Python 3.8.9 64-bit",
   "language": "python",
   "name": "python3"
  },
  "language_info": {
   "codemirror_mode": {
    "name": "ipython",
    "version": 3
   },
   "file_extension": ".py",
   "mimetype": "text/x-python",
   "name": "python",
   "nbconvert_exporter": "python",
   "pygments_lexer": "ipython3",
   "version": "3.8.9"
  },
  "orig_nbformat": 4
 },
 "nbformat": 4,
 "nbformat_minor": 2
}
